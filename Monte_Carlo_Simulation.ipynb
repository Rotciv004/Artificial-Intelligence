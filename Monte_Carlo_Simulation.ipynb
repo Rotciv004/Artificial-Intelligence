{
 "cells": [
  {
   "cell_type": "code",
   "execution_count": null,
   "metadata": {},
   "outputs": [
    {
     "name": "stdout",
     "output_type": "stream",
     "text": [
      "Probabilitatea estimată ca bila să cadă în conductă: 0.2643\n"
     ]
    }
   ],
   "source": [
    "import random\n",
    "\n",
    "def monte_carlo_simulation(num_simulations=100000):\n",
    "\n",
    "    pipe_radius = 30  # cm\n",
    "    square_side = 100  # cm (1m = 100cm)\n",
    "    ball_radius = 1  # cm\n",
    "    \n",
    "    successful_drops = 0\n",
    "    \n",
    "    for _ in range(num_simulations):\n",
    "        x = random.uniform(-square_side / 2, square_side / 2)\n",
    "        y = random.uniform(-square_side / 2, square_side / 2)\n",
    "        \n",
    "        if (x**2 + y**2) <= (pipe_radius - ball_radius) ** 2:\n",
    "            successful_drops += 1\n",
    "    \n",
    "    estimated_probability = successful_drops / num_simulations\n",
    "    \n",
    "    return estimated_probability\n",
    "\n",
    "estimated_prob = monte_carlo_simulation()\n",
    "print(f\"Probabilitatea estimată ca bila să cadă în conductă: {estimated_prob:.4f}\")\n"
   ]
  }
 ],
 "metadata": {
  "kernelspec": {
   "display_name": "Python 3",
   "language": "python",
   "name": "python3"
  },
  "language_info": {
   "codemirror_mode": {
    "name": "ipython",
    "version": 3
   },
   "file_extension": ".py",
   "mimetype": "text/x-python",
   "name": "python",
   "nbconvert_exporter": "python",
   "pygments_lexer": "ipython3",
   "version": "3.9.13"
  }
 },
 "nbformat": 4,
 "nbformat_minor": 2
}
