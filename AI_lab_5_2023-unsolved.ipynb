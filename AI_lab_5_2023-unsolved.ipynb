{
 "cells": [
  {
   "cell_type": "markdown",
   "id": "b8210b19",
   "metadata": {},
   "source": [
    "## A.I. Assignment 5\n",
    "\n",
    "## Learning Goals\n",
    "\n",
    "By the end of this lab, you should be able to:\n",
    "* Get more familiar with tensors in pytorch \n",
    "* Create a simple multilayer perceptron model with pytorch\n",
    "* Visualise the parameters\n",
    "\n",
    "\n",
    "### Task\n",
    "\n",
    "Build a fully connected feed forward network that adds two bits. Determine the a propper achitecture for this network (what database you use for this problem? how many layers? how many neurons on each layer? what is the activation function? what is the loss function? etc)\n",
    "\n",
    "Create at least 3 such networks and compare their performance (how accurate they are?, how farst they are trained to get at 1 accuracy?)\n",
    "\n",
    "Display for the best one the weights for each layer.\n"
   ]
  },
  {
   "cell_type": "code",
   "execution_count": 70,
   "id": "e3614e5f",
   "metadata": {},
   "outputs": [],
   "source": [
    "import torch\n",
    "import torch.nn as nn\n",
    "import torch.optim as optim\n",
    "from collections import OrderedDict\n",
    "import pandas as pd\n",
    "\n"
   ]
  },
  {
   "cell_type": "code",
   "execution_count": 71,
   "id": "4cdf09ba",
   "metadata": {},
   "outputs": [],
   "source": [
    "data_in = torch.tensor([[0., 0.], # A and B elements\n",
    "                        [0., 1.],\n",
    "                        [1., 0.],\n",
    "                        [1., 1.]])\n",
    "\n",
    "#Perform A XOR B :=> SUM\n",
    "#Perform A AND B :=> CARRY\n",
    "\n",
    "data_target = torch.tensor([[0., 0.],  # s=0, c=0\n",
    "                            [1., 0.],  # s=1, c=0\n",
    "                            [1., 0.],  # s=1, c=0\n",
    "                            [0., 1.]]) # s=0, c=1\n"
   ]
  },
  {
   "cell_type": "code",
   "execution_count": 72,
   "id": "d0bea66c",
   "metadata": {},
   "outputs": [],
   "source": [
    "def train_model(model, lr=0.1, epochs=10000):\n",
    "    \n",
    "    criterion = nn.MSELoss()\n",
    "    \n",
    "    optimizer = optim.Adam(model.parameters(), lr=lr)\n",
    "    losses = []\n",
    "    \n",
    "    for epoch in range(epochs):\n",
    "        optimizer.zero_grad()\n",
    "        \n",
    "        output = model(data_in)\n",
    "        loss = criterion(output, data_target)\n",
    "        \n",
    "        loss.backward()\n",
    "        optimizer.step()\n",
    "\n",
    "        losses.append(loss.item())\n",
    "        \n",
    "        if loss.item() < 1e-4:\n",
    "            break\n",
    "            \n",
    "    return model, losses"
   ]
  },
  {
   "cell_type": "code",
   "execution_count": 73,
   "id": "e29c65a2",
   "metadata": {},
   "outputs": [],
   "source": [
    "model1 = nn.Sequential(OrderedDict([\n",
    "    ('fc1', nn.Linear(2, 4)),\n",
    "    ('act1', nn.Sigmoid()),\n",
    "    ('fc2', nn.Linear(4, 2)),\n",
    "    ('act2', nn.Sigmoid())\n",
    "]))\n",
    "\n",
    "model2 = nn.Sequential(OrderedDict([\n",
    "    ('fc1', nn.Linear(2, 3)),\n",
    "    ('act1', nn.ReLU()),\n",
    "    ('fc2', nn.Linear(3, 3)),\n",
    "    ('act2', nn.ReLU()),\n",
    "    ('fc3', nn.Linear(3, 2)),\n",
    "    ('act3', nn.Sigmoid())\n",
    "]))\n",
    "\n",
    "model3 = nn.Sequential(OrderedDict([\n",
    "    ('fc1', nn.Linear(2, 6)),\n",
    "    ('act1', nn.Tanh()),\n",
    "    ('fc2', nn.Linear(6, 2)),\n",
    "    ('act2', nn.Sigmoid())\n",
    "]))"
   ]
  },
  {
   "cell_type": "code",
   "execution_count": 74,
   "id": "84205925-06fd-478f-ad60-202eb9ee41e2",
   "metadata": {},
   "outputs": [],
   "source": [
    "model1, loss1 = train_model(model1)\n",
    "model2, loss2 = train_model(model2)\n",
    "model3, loss3 = train_model(model3)"
   ]
  },
  {
   "cell_type": "code",
   "execution_count": 69,
   "id": "f5c5025b-a138-4191-8add-5bba3961eb14",
   "metadata": {},
   "outputs": [
    {
     "name": "stdout",
     "output_type": "stream",
     "text": [
      "\n",
      "Result Compare\n",
      "        Input      Target                        Model1              Model2  \\\n",
      "0  [0.0, 0.0]  [0.0, 0.0]  [0.011490224, 0.00044933855]  [0.50005007, 0.25]   \n",
      "1  [0.0, 1.0]  [1.0, 0.0]     [0.99029225, 0.006001152]  [0.50005007, 0.25]   \n",
      "2  [1.0, 0.0]  [1.0, 0.0]      [0.99050736, 0.00598411]  [0.50005007, 0.25]   \n",
      "3  [1.0, 1.0]  [0.0, 1.0]      [0.012343684, 0.9839686]  [0.50005007, 0.25]   \n",
      "\n",
      "                         Model3  \n",
      "0  [0.014913199, 7.7461145e-06]  \n",
      "1     [0.98986393, 0.002876999]  \n",
      "2    [0.98993087, 0.0028583778]  \n",
      "3     [0.015353615, 0.98953885]  \n",
      "\n",
      "Best model: model3\n",
      "Loss final: 0.000099\n",
      "fc1.weight:\n",
      "tensor([[-1.5975, -1.5931],\n",
      "        [ 1.8304,  1.8635],\n",
      "        [-3.2628, -3.1454],\n",
      "        [ 0.4688,  0.6411],\n",
      "        [ 4.1205,  3.9494],\n",
      "        [ 1.9898,  1.9442]])\n",
      "\n",
      "fc1.bias:\n",
      "tensor([ 1.9743, -2.4173,  1.6054, -2.0983, -2.0570, -2.6564])\n",
      "\n",
      "fc2.weight:\n",
      "tensor([[ 1.5202, -2.0871, -2.8967,  1.3549,  3.3668, -3.1832],\n",
      "        [-2.1998,  2.6895, -1.3760,  1.6242, -0.1564,  2.5589]])\n",
      "\n",
      "fc2.bias:\n",
      "tensor([-3.6140, -1.7768])\n",
      "\n"
     ]
    }
   ],
   "source": [
    "df = pd.DataFrame({\n",
    "    \"Input\": [list(x.numpy()) for x in data_in],\n",
    "    \"Target\": [list(y.numpy()) for y in data_target],\n",
    "    \"Model1\": [list(o.detach().numpy()) for o in model1(data_in)],\n",
    "    \"Model2\": [list(o.detach().numpy()) for o in model2(data_in)],\n",
    "    \"Model3\": [list(o.detach().numpy()) for o in model3(data_in)],\n",
    "})\n",
    "\n",
    "print(\"\\nResult Compare\")\n",
    "print(df)\n",
    "\n",
    "final_losses = [loss1[-1], loss2[-1], loss3[-1]]\n",
    "best_model_index = final_losses.index(min(final_losses))\n",
    "best_model = [model1, model2, model3][best_model_index]\n",
    "\n",
    "print(f\"\\nBest model: model{best_model_index + 1}\")\n",
    "print(f\"Loss final: {final_losses[best_model_index]:.6f}\")\n",
    "\n",
    "for name, param in best_model.named_parameters():\n",
    "    print(f\"{name}:\\n{param.data}\\n\")"
   ]
  },
  {
   "cell_type": "code",
   "execution_count": null,
   "id": "353c81ea-df0a-4682-b096-c93997fe4bef",
   "metadata": {},
   "outputs": [],
   "source": []
  },
  {
   "cell_type": "code",
   "execution_count": null,
   "id": "a3ba385a-86a9-4468-97e5-e002ea1d4a6b",
   "metadata": {},
   "outputs": [],
   "source": []
  }
 ],
 "metadata": {
  "kernelspec": {
   "display_name": "Python 3 (ipykernel)",
   "language": "python",
   "name": "python3"
  },
  "language_info": {
   "codemirror_mode": {
    "name": "ipython",
    "version": 3
   },
   "file_extension": ".py",
   "mimetype": "text/x-python",
   "name": "python",
   "nbconvert_exporter": "python",
   "pygments_lexer": "ipython3",
   "version": "3.12.9"
  }
 },
 "nbformat": 4,
 "nbformat_minor": 5
}
