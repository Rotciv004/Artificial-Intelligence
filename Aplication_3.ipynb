{
 "cells": [
  {
   "cell_type": "code",
   "execution_count": 7,
   "metadata": {},
   "outputs": [
    {
     "data": {
      "text/plain": [
       "['import pandas as pd\\nimport matplotlib.pyplot as plt\\nfrom sklearn.model_selection import train_test_split\\nfrom sklearn.linear_model import LinearRegression\\nfrom sklearn.metrics import mean_absolute_error, mean_squared_error, r2_score\\n\\n# Incarc datele\\nfile_path = \"score.csv\"\\ndf = pd.read_csv(file_path)\\n# Tabelul brut\\ndf.head()\\n',\n",
       " \"# Fractionam datele\\nX = df[['Hours']]\\ny = df['Scores']\\n\\n# Impartim datele in antrenare si testare\\nX_train, X_test, y_train, y_test = train_test_split(X, y, test_size=0.2, random_state=42)\\n\\n# Creem o inregistrare lineara cu datele de antrenament\\nmodel = LinearRegression()\\nmodel.fit(X_train, y_train)\\n\\n# Facem predictii\\ny_pred = model.predict(X_test)\\n\\n# Evaluam\\nmae = mean_absolute_error(y_test, y_pred)\\nmse = mean_squared_error(y_test, y_pred)\\nr2 = r2_score(y_test, y_pred)\\n\\nmae, mse, r2\\n\",\n",
       " \"# Creem plot\\nplt.figure(figsize=(10, 5))\\nplt.scatter(X_train, y_train, color='blue', label='Training Data')\\nplt.plot(X_train, model.predict(X_train), color='red', label='Regression Line (Train)')\\nplt.xlabel('Hours Studied')\\nplt.ylabel('Score')\\nplt.title('Training Data & Regression Line')\\nplt.legend()\\nplt.show()\\n\\n# testam plot cu predictii\\nplt.figure(figsize=(10, 5))\\nplt.scatter(X_test, y_test, color='green', label='Actual Test Data')\\nplt.scatter(X_test, y_pred, color='red', marker='x', label='Predicted Values')\\nplt.plot(X_train, model.predict(X_train), color='blue', label='Regression Line')\\nplt.xlabel('Hours Studied')\\nplt.ylabel('Score')\\nplt.title('Test Data vs Predictions')\\nplt.legend()\\nplt.show()\\n\"]"
      ]
     },
     "execution_count": 7,
     "metadata": {},
     "output_type": "execute_result"
    }
   ],
   "source": [
    "import nbformat\n",
    "\n",
    "# Load the Jupyter Notebook file\n",
    "notebook_path = \"Exercise_2.ipynb\"\n",
    "\n",
    "with open(notebook_path, \"r\", encoding=\"utf-8\") as f:\n",
    "    notebook_data = nbformat.read(f, as_version=4)\n",
    "\n",
    "# Extract and analyze the code cells\n",
    "code_cells = [cell['source'] for cell in notebook_data['cells'] if cell['cell_type'] == 'code']\n",
    "\n",
    "# Display the first few code cells to understand the structure\n",
    "code_cells[:3]\n"
   ]
  },
  {
   "cell_type": "code",
   "execution_count": 8,
   "metadata": {},
   "outputs": [
    {
     "name": "stdout",
     "output_type": "stream",
     "text": [
      "   Hours  Scores\n",
      "0    2.5      21\n",
      "1    5.1      47\n",
      "2    3.2      27\n",
      "3    8.5      75\n",
      "4    3.5      30\n",
      "Coloane disponibile în dataset: Index(['Hours', 'Scores'], dtype='object')\n"
     ]
    }
   ],
   "source": [
    "import pandas as pd\n",
    "import numpy as np\n",
    "import matplotlib.pyplot as plt\n",
    "from sklearn.model_selection import train_test_split\n",
    "from sklearn.linear_model import Ridge, Lasso, ElasticNet\n",
    "from sklearn.metrics import mean_absolute_error, mean_squared_error, r2_score\n",
    "from IPython.display import display\n",
    "\n",
    "# Incarc datele\n",
    "file_path = \"score.csv\"  # Asigură-te că fișierul există în acest director!\n",
    "df = pd.read_csv(file_path)\n",
    "\n",
    "# Verifică structura datelor\n",
    "print(df.head())\n",
    "\n",
    "# Verifică dacă 'Hours' și 'Scores' sunt coloane valide\n",
    "print(\"Coloane disponibile în dataset:\", df.columns)\n",
    "\n",
    "# Definește variabilele X și y\n",
    "X = df[['Hours']]  # Caracteristica independentă\n",
    "y = df['Scores']   # Variabila dependentă\n",
    "\n",
    "# Împarte datele în antrenare și testare\n",
    "X_train, X_test, y_train, y_test = train_test_split(X, y, test_size=0.2, random_state=42)\n",
    "\n",
    "# Acum, X_train și y_train sunt definite și poți antrena modelul\n"
   ]
  },
  {
   "cell_type": "code",
   "execution_count": 9,
   "metadata": {},
   "outputs": [
    {
     "name": "stdout",
     "output_type": "stream",
     "text": [
      "\n",
      "Regularization Model Performance:\n"
     ]
    },
    {
     "data": {
      "text/html": [
       "<div>\n",
       "<style scoped>\n",
       "    .dataframe tbody tr th:only-of-type {\n",
       "        vertical-align: middle;\n",
       "    }\n",
       "\n",
       "    .dataframe tbody tr th {\n",
       "        vertical-align: top;\n",
       "    }\n",
       "\n",
       "    .dataframe thead th {\n",
       "        text-align: right;\n",
       "    }\n",
       "</style>\n",
       "<table border=\"1\" class=\"dataframe\">\n",
       "  <thead>\n",
       "    <tr style=\"text-align: right;\">\n",
       "      <th></th>\n",
       "      <th>Model</th>\n",
       "      <th>MAE</th>\n",
       "      <th>MSE</th>\n",
       "      <th>R2 Score</th>\n",
       "    </tr>\n",
       "  </thead>\n",
       "  <tbody>\n",
       "    <tr>\n",
       "      <th>0</th>\n",
       "      <td>Ridge</td>\n",
       "      <td>3.913692</td>\n",
       "      <td>19.421300</td>\n",
       "      <td>0.966993</td>\n",
       "    </tr>\n",
       "    <tr>\n",
       "      <th>1</th>\n",
       "      <td>Lasso</td>\n",
       "      <td>3.919281</td>\n",
       "      <td>19.037341</td>\n",
       "      <td>0.967646</td>\n",
       "    </tr>\n",
       "    <tr>\n",
       "      <th>2</th>\n",
       "      <td>ElasticNet</td>\n",
       "      <td>3.912963</td>\n",
       "      <td>19.474423</td>\n",
       "      <td>0.966903</td>\n",
       "    </tr>\n",
       "  </tbody>\n",
       "</table>\n",
       "</div>"
      ],
      "text/plain": [
       "        Model       MAE        MSE  R2 Score\n",
       "0       Ridge  3.913692  19.421300  0.966993\n",
       "1       Lasso  3.919281  19.037341  0.967646\n",
       "2  ElasticNet  3.912963  19.474423  0.966903"
      ]
     },
     "metadata": {},
     "output_type": "display_data"
    }
   ],
   "source": [
    "import pandas as pd\n",
    "from sklearn.linear_model import Ridge, Lasso, ElasticNet\n",
    "from sklearn.metrics import mean_absolute_error, mean_squared_error, r2_score\n",
    "from IPython.display import display  # Pentru afișarea frumoasă în Jupyter Notebook\n",
    "\n",
    "# Train Ridge Regression\n",
    "ridge_model = Ridge(alpha=1.0)\n",
    "ridge_model.fit(X_train, y_train)\n",
    "y_ridge_pred = ridge_model.predict(X_test)\n",
    "\n",
    "# Train Lasso Regression\n",
    "lasso_model = Lasso(alpha=0.1)\n",
    "lasso_model.fit(X_train, y_train)\n",
    "y_lasso_pred = lasso_model.predict(X_test)\n",
    "\n",
    "# Train ElasticNet Regression\n",
    "elastic_model = ElasticNet(alpha=0.1, l1_ratio=0.5)\n",
    "elastic_model.fit(X_train, y_train)\n",
    "y_elastic_pred = elastic_model.predict(X_test)\n",
    "\n",
    "# Evaluate models\n",
    "ridge_mae = mean_absolute_error(y_test, y_ridge_pred)\n",
    "lasso_mae = mean_absolute_error(y_test, y_lasso_pred)\n",
    "elastic_mae = mean_absolute_error(y_test, y_elastic_pred)\n",
    "\n",
    "ridge_mse = mean_squared_error(y_test, y_ridge_pred)\n",
    "lasso_mse = mean_squared_error(y_test, y_lasso_pred)\n",
    "elastic_mse = mean_squared_error(y_test, y_elastic_pred)\n",
    "\n",
    "ridge_r2 = r2_score(y_test, y_ridge_pred)\n",
    "lasso_r2 = r2_score(y_test, y_lasso_pred)\n",
    "elastic_r2 = r2_score(y_test, y_elastic_pred)\n",
    "\n",
    "# Create a DataFrame with results\n",
    "results_df = pd.DataFrame({\n",
    "    \"Model\": [\"Ridge\", \"Lasso\", \"ElasticNet\"],\n",
    "    \"MAE\": [ridge_mae, lasso_mae, elastic_mae],\n",
    "    \"MSE\": [ridge_mse, lasso_mse, elastic_mse],\n",
    "    \"R2 Score\": [ridge_r2, lasso_r2, elastic_r2]\n",
    "})\n",
    "\n",
    "# Display the results\n",
    "print(\"\\nRegularization Model Performance:\")\n",
    "display(results_df)  # Funcționează bine în Jupyter Notebook\n"
   ]
  }
 ],
 "metadata": {
  "kernelspec": {
   "display_name": "Python 3",
   "language": "python",
   "name": "python3"
  },
  "language_info": {
   "codemirror_mode": {
    "name": "ipython",
    "version": 3
   },
   "file_extension": ".py",
   "mimetype": "text/x-python",
   "name": "python",
   "nbconvert_exporter": "python",
   "pygments_lexer": "ipython3",
   "version": "3.9.13"
  }
 },
 "nbformat": 4,
 "nbformat_minor": 2
}
